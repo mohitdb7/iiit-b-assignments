{
 "cells": [
  {
   "cell_type": "markdown",
   "id": "bf5d9f93-4290-4c92-acdd-68218b1197e4",
   "metadata": {},
   "source": [
    "## Problem statement\n",
    "\n",
    "The e-commerce business is quite popular today. Here, you do not need to take orders by going to each customer. A company launches its website to sell the items to the end consumer, and customers can order the products that they require from the same website. Famous examples of such e-commerce companies are Amazon, Flipkart, Myntra, Paytm and Snapdeal.\n",
    "\n",
    "Suppose you are working as a Machine Learning Engineer in an e-commerce company named 'Ebuss'. Ebuss has captured a huge market share in many fields, and it sells the products in various categories such as household essentials, books, personal care products, medicines, cosmetic items, beauty products, electrical appliances, kitchen and dining products and health care products.\n",
    "\n",
    "With the advancement in technology, it is imperative for Ebuss to grow quickly in the e-commerce market to become a major leader in the market because it has to compete with the likes of Amazon, Flipkart, etc., which are already market leaders.\n",
    "\n",
    "As a senior ML Engineer, you are asked to build a model that will improve the recommendations given to the users given their past reviews and ratings. \n",
    "\n",
    "\n",
    "The steps to be performed for the first task are given below.\n",
    "\n",
    "- Exploratory data analysis\n",
    "- Data cleaning\n",
    "- Text preprocessing\n",
    "- Feature extraction: In order to extract features from the text data, you may choose from any of the methods, including bag-of-words, TF-IDF vectorization or word embedding.\n",
    "- Training a text classification model: You need to build at least three ML models. You then need to analyse the performance of each of these models and choose the best model. At least three out of the following four models need to be built (Do not forget, if required, handle the class imbalance and perform hyperparameter tuning.). \n",
    "    1. Logistic regression\n",
    "    2. Random forest\n",
    "    3. XGBoost\n",
    "    4. Naive Bayes"
   ]
  },
  {
   "cell_type": "markdown",
   "id": "366a119f-ab8d-4eb1-8c28-5b10c18e4027",
   "metadata": {},
   "source": [
    "Out of these four models, you need to select one classification model based on its performance.\n",
    "\n",
    "Building a recommendation system\n",
    "As you learnt earlier, you can use the following types of recommendation systems.\n",
    "1. User-based recommendation system\n",
    "2. Item-based recommendation system\n",
    "\n",
    "Your task is to analyse the recommendation systems and select the one that is best suited in this case. \n",
    "\n",
    "Once you get the best-suited recommendation system, the next task is to recommend 20 products that a user is most likely to purchase based on the ratings. <br/>\n",
    "\n",
    "You can use the 'reviews_username' (one of the columns in the dataset) to identify your user. \n",
    "- Improving the recommendations using the sentiment analysis model\n",
    "\n",
    "Now, the next task is to link this recommendation system with the sentiment analysis model that was built earlier (recall that we asked you to select one ML model out of the four options). Once you recommend 20 products to a particular user using the recommendation engine, you need to filter out the 5 best products based on the sentiments of the 20 recommended product reviews. \n",
    "\n",
    "In this way, you will get an ML model (for sentiments) and the best-suited recommendation system. \n",
    "\n"
   ]
  },
  {
   "cell_type": "markdown",
   "id": "9d8fca95-ce0d-409b-a899-eb59e570e8f8",
   "metadata": {},
   "source": [
    "# **Improving the recommendations using the sentiment analysis model**\n",
    "\n",
    "### Fine-Tuning the Recommendation System and Recommendation of Top 5 Products"
   ]
  },
  {
   "cell_type": "code",
   "execution_count": 1,
   "id": "e23dba54-6737-4fe9-8427-413084246982",
   "metadata": {},
   "outputs": [],
   "source": [
    "import numpy as np\n",
    "import pandas as pd\n",
    "import seaborn as sns\n",
    "import matplotlib.pyplot as plt"
   ]
  },
  {
   "cell_type": "code",
   "execution_count": 2,
   "id": "9a591ef7-a430-41d6-b575-87d50d58779e",
   "metadata": {},
   "outputs": [],
   "source": [
    "from sklearn.feature_extraction.text import TfidfVectorizer"
   ]
  },
  {
   "cell_type": "code",
   "execution_count": 3,
   "id": "e97b5b42-2f81-4f15-82de-594685572051",
   "metadata": {},
   "outputs": [],
   "source": [
    "import pickle"
   ]
  },
  {
   "cell_type": "markdown",
   "id": "b331d95d-16dd-415d-a053-2a892e7e693b",
   "metadata": {},
   "source": [
    "#### Load the cleaned dataframe"
   ]
  },
  {
   "cell_type": "code",
   "execution_count": 4,
   "id": "c3b163a2-21c5-489b-a739-e7f6652ba405",
   "metadata": {},
   "outputs": [],
   "source": [
    "clean_df = pd.read_pickle(\"savedData/preprocessed-dataframe.pkl\")\n",
    "clean_df_recommended = clean_df[['id','name','reviews_complete_text', 'user_sentiment']]"
   ]
  },
  {
   "cell_type": "markdown",
   "id": "5567dc80-c7a8-4e67-a013-fd91d2499fcf",
   "metadata": {},
   "source": [
    "#### Load the user final rating"
   ]
  },
  {
   "cell_type": "code",
   "execution_count": 5,
   "id": "f96b8a2d-66de-4ace-9822-9290bb8e21cb",
   "metadata": {},
   "outputs": [],
   "source": [
    "user_final_rating = pd.read_pickle(\"savedData/user_final_rating.pkl\")"
   ]
  },
  {
   "cell_type": "code",
   "execution_count": 6,
   "id": "fda3e614-af12-4470-b963-8351c83919e0",
   "metadata": {},
   "outputs": [
    {
     "name": "stdout",
     "output_type": "stream",
     "text": [
      "<class 'pandas.core.frame.DataFrame'>\n",
      "Index: 29255 entries, 0 to 29999\n",
      "Data columns (total 13 columns):\n",
      " #   Column                   Non-Null Count  Dtype              \n",
      "---  ------                   --------------  -----              \n",
      " 0   id                       29255 non-null  object             \n",
      " 1   brand                    29255 non-null  object             \n",
      " 2   categories               29255 non-null  object             \n",
      " 3   manufacturer             29255 non-null  object             \n",
      " 4   name                     29255 non-null  object             \n",
      " 5   reviews_date             29255 non-null  datetime64[ns, UTC]\n",
      " 6   reviews_rating           29255 non-null  int64              \n",
      " 7   reviews_text             29255 non-null  object             \n",
      " 8   reviews_title            29255 non-null  object             \n",
      " 9   reviews_username         29255 non-null  object             \n",
      " 10  user_sentiment           29255 non-null  int64              \n",
      " 11  reviews_preprocess_text  29255 non-null  object             \n",
      " 12  reviews_complete_text    29255 non-null  object             \n",
      "dtypes: datetime64[ns, UTC](1), int64(2), object(10)\n",
      "memory usage: 3.1+ MB\n"
     ]
    }
   ],
   "source": [
    "clean_df.info()"
   ]
  },
  {
   "cell_type": "markdown",
   "id": "fe9ddb30-5a5e-4238-9b89-7ae26ea83549",
   "metadata": {},
   "source": [
    "#### Load the Vectorizer"
   ]
  },
  {
   "cell_type": "code",
   "execution_count": 7,
   "id": "2073734b-ac24-41c0-9d64-f95a78d0377f",
   "metadata": {},
   "outputs": [],
   "source": [
    "file = open(\"savedData/tfidf-vectorizer.pkl\",'rb')\n",
    "vectorizer = pickle.load(file)\n",
    "file.close()"
   ]
  },
  {
   "cell_type": "markdown",
   "id": "81ac832a-a9c3-424f-ac09-39c675d93bd9",
   "metadata": {},
   "source": [
    "#### Load the Classification model"
   ]
  },
  {
   "cell_type": "code",
   "execution_count": 8,
   "id": "8434ee6d-5fc5-459b-bf66-80d616414079",
   "metadata": {},
   "outputs": [],
   "source": [
    "file = open(\"savedData/models/logistic_regression_20241114-105215.pkl\",'rb')\n",
    "lr_smote_obj = pickle.load(file)\n",
    "file.close()"
   ]
  },
  {
   "cell_type": "markdown",
   "id": "512c6341-5688-4d11-beeb-cdf9f6ee2090",
   "metadata": {},
   "source": [
    "### Fine tune and optimise the recommendation using the user-recommendation and classification model"
   ]
  },
  {
   "cell_type": "code",
   "execution_count": 9,
   "id": "77ff1748-eae9-432e-8e88-8f2733bc6bca",
   "metadata": {},
   "outputs": [],
   "source": [
    "def get_top5_user_recommendations(user):\n",
    "  if user in user_final_rating.index:\n",
    "    # get the top 20  recommedation using the user_final_rating\n",
    "    top20_reco = list(user_final_rating.loc[user].sort_values(ascending=False)[0:20].index)\n",
    "    # get the product recommedation using the orig data used for trained model\n",
    "    common_top20_reco = clean_df_recommended[clean_df['id'].isin(top20_reco)]\n",
    "    # Apply the TFIDF Vectorizer for the given 20 products to convert data in reqd format for modeling\n",
    "    X =  vectorizer.transform(common_top20_reco['reviews_complete_text'].values.astype(str))\n",
    "\n",
    "    # Recommended model was LR SMOTE\n",
    "    # So using the same to predict\n",
    "    lr_smote_obj.set_test_data(X)\n",
    "    common_top20_reco['sentiment_pred']= lr_smote_obj.predict()\n",
    "\n",
    "    # Create a new dataframe \"pred_df\" to store the count of positive user sentiments\n",
    "    temp_df = common_top20_reco.groupby(by='name').sum()\n",
    "    # Create a new dataframe \"pred_df\" to store the count of positive user sentiments\n",
    "    sent_df = temp_df[['sentiment_pred']]\n",
    "    sent_df.columns = ['pos_sent_count']\n",
    "    # Create a column to measure the total sentiment count\n",
    "    sent_df['total_sent_count'] = common_top20_reco.groupby(by='name')['sentiment_pred'].count()\n",
    "    # Calculate the positive sentiment percentage\n",
    "    sent_df['pos_sent_percent'] = np.round(sent_df['pos_sent_count']/sent_df['total_sent_count']*100,2)\n",
    "    # Return top 5 recommended products to the user\n",
    "    result = sent_df.sort_values(by='pos_sent_percent', ascending=False)[:5]\n",
    "    return result\n",
    "  else:\n",
    "    print(f\"User name {user} doesn't exist\")"
   ]
  },
  {
   "cell_type": "code",
   "execution_count": 10,
   "id": "c9cd119e-c3b6-40ee-93fe-0c8cd2f6e5ee",
   "metadata": {},
   "outputs": [
    {
     "name": "stderr",
     "output_type": "stream",
     "text": [
      "/var/folders/q1/s7gqh_bd79v7bvph1qyc140ww74xyy/T/ipykernel_16427/1649617711.py:13: SettingWithCopyWarning: \n",
      "A value is trying to be set on a copy of a slice from a DataFrame.\n",
      "Try using .loc[row_indexer,col_indexer] = value instead\n",
      "\n",
      "See the caveats in the documentation: https://pandas.pydata.org/pandas-docs/stable/user_guide/indexing.html#returning-a-view-versus-a-copy\n",
      "  common_top20_reco['sentiment_pred']= lr_smote_obj.predict()\n",
      "/var/folders/q1/s7gqh_bd79v7bvph1qyc140ww74xyy/T/ipykernel_16427/1649617711.py:21: SettingWithCopyWarning: \n",
      "A value is trying to be set on a copy of a slice from a DataFrame.\n",
      "Try using .loc[row_indexer,col_indexer] = value instead\n",
      "\n",
      "See the caveats in the documentation: https://pandas.pydata.org/pandas-docs/stable/user_guide/indexing.html#returning-a-view-versus-a-copy\n",
      "  sent_df['total_sent_count'] = common_top20_reco.groupby(by='name')['sentiment_pred'].count()\n",
      "/var/folders/q1/s7gqh_bd79v7bvph1qyc140ww74xyy/T/ipykernel_16427/1649617711.py:23: SettingWithCopyWarning: \n",
      "A value is trying to be set on a copy of a slice from a DataFrame.\n",
      "Try using .loc[row_indexer,col_indexer] = value instead\n",
      "\n",
      "See the caveats in the documentation: https://pandas.pydata.org/pandas-docs/stable/user_guide/indexing.html#returning-a-view-versus-a-copy\n",
      "  sent_df['pos_sent_percent'] = np.round(sent_df['pos_sent_count']/sent_df['total_sent_count']*100,2)\n"
     ]
    },
    {
     "data": {
      "text/html": [
       "<div>\n",
       "<style scoped>\n",
       "    .dataframe tbody tr th:only-of-type {\n",
       "        vertical-align: middle;\n",
       "    }\n",
       "\n",
       "    .dataframe tbody tr th {\n",
       "        vertical-align: top;\n",
       "    }\n",
       "\n",
       "    .dataframe thead th {\n",
       "        text-align: right;\n",
       "    }\n",
       "</style>\n",
       "<table border=\"1\" class=\"dataframe\">\n",
       "  <thead>\n",
       "    <tr style=\"text-align: right;\">\n",
       "      <th></th>\n",
       "      <th>pos_sent_count</th>\n",
       "      <th>total_sent_count</th>\n",
       "      <th>pos_sent_percent</th>\n",
       "    </tr>\n",
       "    <tr>\n",
       "      <th>name</th>\n",
       "      <th></th>\n",
       "      <th></th>\n",
       "      <th></th>\n",
       "    </tr>\n",
       "  </thead>\n",
       "  <tbody>\n",
       "    <tr>\n",
       "      <th>Clorox Disinfecting Bathroom Cleaner</th>\n",
       "      <td>2010</td>\n",
       "      <td>2039</td>\n",
       "      <td>98.58</td>\n",
       "    </tr>\n",
       "    <tr>\n",
       "      <th>Chester's Cheese Flavored Puffcorn Snacks</th>\n",
       "      <td>165</td>\n",
       "      <td>172</td>\n",
       "      <td>95.93</td>\n",
       "    </tr>\n",
       "    <tr>\n",
       "      <th>The Resident Evil Collection 5 Discs (blu-Ray)</th>\n",
       "      <td>801</td>\n",
       "      <td>845</td>\n",
       "      <td>94.79</td>\n",
       "    </tr>\n",
       "    <tr>\n",
       "      <th>Red (special Edition) (dvdvideo)</th>\n",
       "      <td>621</td>\n",
       "      <td>669</td>\n",
       "      <td>92.83</td>\n",
       "    </tr>\n",
       "    <tr>\n",
       "      <th>Jolly Time Select Premium Yellow Pop Corn</th>\n",
       "      <td>25</td>\n",
       "      <td>27</td>\n",
       "      <td>92.59</td>\n",
       "    </tr>\n",
       "  </tbody>\n",
       "</table>\n",
       "</div>"
      ],
      "text/plain": [
       "                                                pos_sent_count  \\\n",
       "name                                                             \n",
       "Clorox Disinfecting Bathroom Cleaner                      2010   \n",
       "Chester's Cheese Flavored Puffcorn Snacks                  165   \n",
       "The Resident Evil Collection 5 Discs (blu-Ray)             801   \n",
       "Red (special Edition) (dvdvideo)                           621   \n",
       "Jolly Time Select Premium Yellow Pop Corn                   25   \n",
       "\n",
       "                                                total_sent_count  \\\n",
       "name                                                               \n",
       "Clorox Disinfecting Bathroom Cleaner                        2039   \n",
       "Chester's Cheese Flavored Puffcorn Snacks                    172   \n",
       "The Resident Evil Collection 5 Discs (blu-Ray)               845   \n",
       "Red (special Edition) (dvdvideo)                             669   \n",
       "Jolly Time Select Premium Yellow Pop Corn                     27   \n",
       "\n",
       "                                                pos_sent_percent  \n",
       "name                                                              \n",
       "Clorox Disinfecting Bathroom Cleaner                       98.58  \n",
       "Chester's Cheese Flavored Puffcorn Snacks                  95.93  \n",
       "The Resident Evil Collection 5 Discs (blu-Ray)             94.79  \n",
       "Red (special Edition) (dvdvideo)                           92.83  \n",
       "Jolly Time Select Premium Yellow Pop Corn                  92.59  "
      ]
     },
     "execution_count": 10,
     "metadata": {},
     "output_type": "execute_result"
    }
   ],
   "source": [
    "get_top5_user_recommendations(\"rebecca\")"
   ]
  },
  {
   "cell_type": "code",
   "execution_count": null,
   "id": "259c2214-c892-43b0-b866-05a91ebae136",
   "metadata": {},
   "outputs": [],
   "source": []
  }
 ],
 "metadata": {
  "kernelspec": {
   "display_name": "Python 3 (ipykernel)",
   "language": "python",
   "name": "python3"
  },
  "language_info": {
   "codemirror_mode": {
    "name": "ipython",
    "version": 3
   },
   "file_extension": ".py",
   "mimetype": "text/x-python",
   "name": "python",
   "nbconvert_exporter": "python",
   "pygments_lexer": "ipython3",
   "version": "3.11.5"
  }
 },
 "nbformat": 4,
 "nbformat_minor": 5
}
