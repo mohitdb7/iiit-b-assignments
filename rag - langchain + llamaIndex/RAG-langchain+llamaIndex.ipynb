{
 "cells": [
  {
   "cell_type": "code",
   "execution_count": 1,
   "id": "e391093a-1431-4bdb-9645-bc4432b8ac00",
   "metadata": {},
   "outputs": [],
   "source": [
    "# pip install googleapis-common-protos==1.56.2"
   ]
  },
  {
   "cell_type": "code",
   "execution_count": 2,
   "id": "a1fa6810-c45b-47ab-8535-f60d9f94b647",
   "metadata": {},
   "outputs": [],
   "source": [
    "# pip install protobuf==3.20.3"
   ]
  },
  {
   "cell_type": "markdown",
   "id": "89b306cb-4c9f-4f69-a0bc-79bec36e9eb2",
   "metadata": {},
   "source": [
    "# Problem statement\n",
    "### **Build a project in the insurance domain, similar to the project you saw in the `Retrieval Augmented Generation` session. The goal of the project will be to build a robust generative search system capable of effectively and accurately answering questions from various policy documents. You may use LangChain or LlamaIndex to build the generative search application.**"
   ]
  },
  {
   "cell_type": "markdown",
   "id": "a56fa8d2-3190-47d8-955a-1e790da5f419",
   "metadata": {},
   "source": [
    "## **RAG with Langchain - Why Use LangChain?**\n",
    "\n",
    "LangChain, a framework designed for building applications powered by large language models (LLMs), offers several key advantages that are evident in the provided code:\n",
    "\n",
    "#### 1. **Modular and Extensible Architecture:**\n",
    "\n",
    "* **Component-Based Approach:** LangChain's modular design allows for easy integration of different components, such as document loaders, text splitters, vector stores, embeddings, and language models. This flexibility enables you to customize and tailor the system to your specific needs.\n",
    "* **Customizable Prompts:** The framework provides tools to create and manage prompts, which are the instructions given to the LLM. This allows you to fine-tune the LLM's responses and guide its behavior.\n",
    "\n",
    "#### 2. **Efficient Data Handling:**\n",
    "\n",
    "* **Document Loading and Processing:** LangChain offers efficient methods for loading and processing documents, including PDF files. This simplifies the process of extracting relevant information from large datasets.\n",
    "* **Text Splitting:** The `RecursiveCharacterTextSplitter` used in the code ensures that text is split into manageable chunks while preserving context. This is crucial for effective processing by LLMs.\n",
    "* **Vector Database:** The use of a vector database (Chroma) enables efficient storage and retrieval of embeddings, which are numerical representations of text. This facilitates semantic search and similarity matching.\n",
    "\n",
    "#### 3. **Integration with LLMs:**\n",
    "\n",
    "* **Language Model Interaction:** LangChain provides seamless integration with various LLMs, including Google's Gemini. This allows you to leverage the power of these models for tasks like question answering, summarization, and text generation.\n",
    "* **Prompt Engineering:** The framework's support for prompt engineering helps you craft effective prompts that guide the LLM's responses and improve the quality of the generated content.\n",
    "\n",
    "#### 4. **Workflow Management:**\n",
    "\n",
    "* **RAG Chains:** The ability to create RAG (Retrieval Augmented Generation) chains allows you to combine document retrieval, prompt engineering, and LLM generation into a cohesive workflow. This streamlines the process of building question-answering systems and other applications.\n",
    "\n",
    "#### 5. **Extensibility and Customization:**\n",
    "\n",
    "* **Custom Components:** LangChain allows you to create custom components, such as custom retrievers or output parsers, to tailor the framework to your specific requirements.\n",
    "* **Integration with Other Tools:** You can easily integrate LangChain with other tools and libraries to enhance its capabilities.\n",
    "\n",
    "**In summary, LangChain provides a robust and flexible framework for building applications powered by LLMs. Its modular architecture, efficient data handling, seamless integration with LLMs, and extensibility make it a valuable tool for a wide range of natural language processing tasks.**\n"
   ]
  },
  {
   "cell_type": "markdown",
   "id": "cd4668cb-a438-4e5a-b81f-df06a2bdf220",
   "metadata": {},
   "source": [
    "### Import Libraries"
   ]
  },
  {
   "cell_type": "markdown",
   "id": "53e03392-695b-4281-a1d3-86627a37a903",
   "metadata": {},
   "source": [
    "**Purpose:**\n",
    "\n",
    "This code imports necessary libraries for working with PDF documents, natural language processing, and vector databases. It specifically leverages LangChain, a framework for building applications powered by large language models.\n",
    "\n",
    "**Key Libraries and Their Functions:**\n",
    "\n",
    "* **Generic Libraries:**\n",
    "  - `os`: Provides functions for interacting with the operating system, such as file and directory operations.\n",
    "  - `IPython.display`: Enables displaying various types of output, including Markdown, in Jupyter Notebooks.\n",
    "\n",
    "* **Data Preparation Libraries:**\n",
    "  - `langchain.document_loaders.PyPDFDirectoryLoader`: Loads PDF documents from a directory.\n",
    "  - `langchain.text_splitter.RecursiveCharacterTextSplitter`: Splits text into smaller chunks based on character count.\n",
    "  - `langchain.vectorstores.Chroma`: Creates a vector database for storing and retrieving embeddings.\n",
    "  - `langchain.embeddings.SentenceTransformerEmbeddings`: Computes embeddings for text using a SentenceTransformer model.\n",
    "\n",
    "* **Data Retrieval Libraries:**\n",
    "  - `langchain.hub`: Provides access to pre-trained language models and tools.\n",
    "  - `langchain_core.output_parsers.StrOutputParser`: Parses output as strings.\n",
    "  - `langchain_core.runnables.RunnablePassthrough`: Passes input through without modification.\n",
    "  - `langchain_google_genai.ChatGoogleGenerativeAI`: Interacts with Google's generative AI model.\n",
    "  - `langchain.prompts.ChatPromptTemplate`: Creates chat-based prompts for language models.\n",
    "\n",
    "* **Additional Libraries:**\n",
    "  - `google.generativeai`: Provides access to Google's generative AI APIs.\n",
    "  - `sentence_transformers.CrossEncoder`: Computes similarity scores between pairs of sentences.\n",
    "\n",
    "**Overall Functionality:**\n",
    "\n",
    "This code appears to be setting up the environment for building an application that processes PDF documents, extracts information from them, and uses a large language model to generate responses or perform other tasks. The libraries provide the necessary tools for loading, splitting, embedding, and storing text data, as well as interacting with a generative AI model.\n",
    "\n",
    "\n",
    "- **Pandas:** A powerful library for working with structured data, providing data structures like DataFrames and Series, along with various functions for data cleaning, manipulation, and analysis.\n",
    "- **NumPy:** A fundamental library for numerical computations, offering efficient multi-dimensional arrays and matrices, as well as mathematical functions and operations.\n",
    "- **JSON:** A library for working with JSON (JavaScript Object Notation) data, which is a popular format for data exchange.\n",
    "\n",
    "**Key Features and Use Cases:**\n",
    "\n",
    "**Pandas:**\n",
    "\n",
    "- **Data Structures:**\n",
    "  - DataFrames: Two-dimensional labeled data structures similar to spreadsheets.\n",
    "  - Series: One-dimensional labeled arrays.\n",
    "- **Data Manipulation:**\n",
    "  - Filtering, sorting, grouping, and aggregating data.\n",
    "  - Handling missing data and outliers.\n",
    "  - Joining and merging dataframes.\n",
    "- **Data Analysis:**\n",
    "  - Statistical calculations and visualizations.\n",
    "  - Time series analysis.\n",
    "\n",
    "**NumPy:**\n",
    "\n",
    "- **Arrays:**\n",
    "  - Efficient storage and manipulation of numerical data in multi-dimensional arrays.\n",
    "  - Mathematical operations on arrays.\n",
    "- **Linear Algebra:**\n",
    "  - Matrix operations, solving linear equations, and eigenvalue problems.\n",
    "- **Random Number Generation:**\n",
    "  - Generating random numbers and arrays for simulations and statistical analysis.\n",
    "\n",
    "**JSON:**\n",
    "\n",
    "- **Parsing:**\n",
    "  - Converting JSON strings into Python objects (dictionaries and lists).\n",
    "- **Serialization:**\n",
    "  - Converting Python objects into JSON strings.\n",
    "- **Data Exchange:**\n",
    "  - Interacting with APIs and other systems that use JSON."
   ]
  },
  {
   "cell_type": "code",
   "execution_count": 3,
   "id": "4f31f3de-ebbb-4ea7-9e97-3d58593ee969",
   "metadata": {},
   "outputs": [],
   "source": [
    "# Generic Libraries\n",
    "import os\n",
    "from IPython.display import display, Markdown\n",
    "\n",
    "# Data Preparation Libraries\n",
    "from langchain.document_loaders import PyPDFDirectoryLoader\n",
    "from langchain.text_splitter import RecursiveCharacterTextSplitter\n",
    "from langchain.vectorstores import Chroma\n",
    "from langchain.embeddings import SentenceTransformerEmbeddings\n",
    "\n",
    "# Data Retrieval libraries\n",
    "from langchain import hub\n",
    "from langchain_core.output_parsers import StrOutputParser\n",
    "from langchain_core.runnables import RunnablePassthrough\n",
    "from langchain_google_genai import ChatGoogleGenerativeAI\n",
    "from langchain.prompts import ChatPromptTemplate\n",
    "\n",
    "import google.generativeai as genai\n",
    "from sentence_transformers import CrossEncoder"
   ]
  },
  {
   "cell_type": "code",
   "execution_count": 4,
   "id": "e17f2b2f-da5e-4d8e-9a83-e4bdf1b4575d",
   "metadata": {},
   "outputs": [],
   "source": [
    "import pandas as pd\n",
    "import numpy as np\n",
    "import json"
   ]
  },
  {
   "cell_type": "markdown",
   "id": "bb4dd678-3051-4a92-a0b4-704bdcf23707",
   "metadata": {},
   "source": [
    "This code sets the maximum column width in pandas DataFrames to `None`, which means that columns can display content of any length without truncation."
   ]
  },
  {
   "cell_type": "code",
   "execution_count": 5,
   "id": "676b329b-c5c7-4bc5-94bc-6fb9a1231e8a",
   "metadata": {},
   "outputs": [],
   "source": [
    "pd.set_option('display.max_colwidth', None)"
   ]
  },
  {
   "cell_type": "markdown",
   "id": "38c23d18-d5ad-439f-a0ac-fc64ca7e3935",
   "metadata": {},
   "source": [
    "### Load the keys"
   ]
  },
  {
   "cell_type": "markdown",
   "id": "0f495153-8149-440d-a540-8e4b9a1732af",
   "metadata": {},
   "source": [
    "**Purpose:**\n",
    "\n",
    "This code snippet loads API keys for Gemini and LangSmith, sets environment variables for LangChain tracing, and configures the API keys for use with LangChain.\n",
    "\n",
    "**Explanation:**\n",
    "\n",
    "- **`gemini_key = open(\"API/gemini_key\", \"r\").read()`:** This line reads the contents of the file \"API/gemini_key\" and stores it in the `gemini_key` variable. This file is assumed to contain the API key for Gemini.\n",
    "- **`langSmith_key = open(\"API/langSmith_key\", \"r\").read()`:** This line reads the contents of the file \"API/langSmith_key\" and stores it in the `langSmith_key` variable. This file is assumed to contain the API key for LangSmith.\n",
    "- **`os.environ[\"LANGCHAIN_TRACING_V2\"] = \"true\"`:** This line sets the environment variable `LANGCHAIN_TRACING_V2` to \"true\". This enables tracing in LangChain, which can be helpful for debugging and monitoring the execution of your code.\n",
    "- **`os.environ[\"LANGCHAIN_API_KEY\"] = langSmith_key`:** This line sets the environment variable `LANGCHAIN_API_KEY` to the value of `langSmith_key`. This configures LangChain to use the LangSmith API.\n",
    "- **`os.environ[\"GOOGLE_API_KEY\"] = gemini_key`:** This line sets the environment variable `GOOGLE_API_KEY` to the value of `gemini_key`. This configures LangChain to use the Gemini API.\n",
    "\n",
    "**Impact:**\n",
    "\n",
    "After running this code, LangChain will be configured to use the specified API keys for Gemini and LangSmith. Tracing will also be enabled, allowing you to monitor the execution of your code and identify potential issues."
   ]
  },
  {
   "cell_type": "code",
   "execution_count": 6,
   "id": "2d59bc18-7dd0-4f2c-a066-c274f500ff30",
   "metadata": {},
   "outputs": [],
   "source": [
    "gemini_key = open(\"API/gemini_key\", \"r\").read()\n",
    "langSmith_key = open(\"API/langSmith_key\", \"r\").read()"
   ]
  },
  {
   "cell_type": "code",
   "execution_count": 7,
   "id": "3e692d90-7c53-45b4-b165-319f7877a4ff",
   "metadata": {},
   "outputs": [],
   "source": [
    "os.environ[\"LANGCHAIN_TRACING_V2\"] = \"true\"\n",
    "os.environ[\"LANGCHAIN_API_KEY\"] = langSmith_key\n",
    "os.environ[\"GOOGLE_API_KEY\"] = gemini_key"
   ]
  },
  {
   "cell_type": "markdown",
   "id": "358f9dba-dc14-47a7-9a2b-7814bac02597",
   "metadata": {},
   "source": [
    "### Load the document"
   ]
  },
  {
   "cell_type": "markdown",
   "id": "940745f6-6345-4746-ad6b-eaf64188250e",
   "metadata": {},
   "source": [
    "**Purpose:**\n",
    "\n",
    "This code snippet loads PDF documents from a specified directory and counts the total number of documents loaded.\n",
    "\n",
    "**Explanation:**\n",
    "\n",
    "- **`source_data_folder = \"documents\"`:** This line sets the variable `source_data_folder` to the string \"documents\". This indicates the directory where the PDF documents are located.\n",
    "- **`loader = PyPDFDirectoryLoader(source_data_folder)`:** This line creates an instance of the `PyPDFDirectoryLoader` class, passing the `source_data_folder` as an argument. This class is responsible for loading PDF documents from the specified directory.\n",
    "- **`data_on_pdf = loader.load()`:** This line calls the `load` method on the `loader` object. This method loads all the PDF documents from the directory and returns a list of `Document` objects. The list of documents is stored in the `data_on_pdf` variable.\n",
    "- **`len(data_on_pdf)`:** This line calculates the length of the `data_on_pdf` list. This gives you the total number of PDF documents that were loaded from the directory.\n",
    "\n",
    "**Impact:**\n",
    "\n",
    "After running this code, the `data_on_pdf` variable will contain a list of `Document` objects, each representing a PDF document loaded from the specified directory. The `len(data_on_pdf)` expression will give you the count of these documents.\n"
   ]
  },
  {
   "cell_type": "code",
   "execution_count": 8,
   "id": "4876e2c1-2767-477d-a9ec-4084fc4ce7c9",
   "metadata": {},
   "outputs": [
    {
     "data": {
      "text/plain": [
       "64"
      ]
     },
     "execution_count": 8,
     "metadata": {},
     "output_type": "execute_result"
    }
   ],
   "source": [
    "source_data_folder = \"documents\"\n",
    "\n",
    "loader = PyPDFDirectoryLoader(source_data_folder)\n",
    "data_on_pdf = loader.load()\n",
    "\n",
    "len(data_on_pdf)"
   ]
  },
  {
   "cell_type": "markdown",
   "id": "f80823b4-3d87-4eb8-8b19-ac1eca4fbce1",
   "metadata": {},
   "source": [
    "### Split the document and form using RecursiveCharacterTextSplitter"
   ]
  },
  {
   "cell_type": "markdown",
   "id": "a02b8771-e221-4b84-9627-1f1758d9c8de",
   "metadata": {},
   "source": [
    "**Purpose:**\n",
    "\n",
    "This code snippet partitions a list of PDF documents into smaller chunks of text, while preserving context by maintaining overlaps between chunks.\n",
    "\n",
    "**Explanation:**\n",
    "\n",
    "- **`text_splitter = RecursiveCharacterTextSplitter(separators=[\"\\n\\n\", \"\\n\", \". \", \" \", \"\"], chunk_size=1000, chunk_overlap=200)`:** This line creates an instance of the `RecursiveCharacterTextSplitter` class, configuring it with the following parameters:\n",
    "  - `separators`: A list of characters or strings that will be used to split the text. In this case, the separators are newline characters, periods, spaces, and empty strings.\n",
    "  - `chunk_size`: The desired size of each text chunk in characters. Here, it's set to 1000.\n",
    "  - `chunk_overlap`: The number of characters that should overlap between adjacent chunks. Here, it's set to 200.\n",
    "- **`splits = text_splitter.split_documents(data_on_pdf)`:** This line calls the `split_documents` method on the `text_splitter` object, passing the `data_on_pdf` list as an argument. This method splits each PDF document in the list into smaller chunks based on the specified parameters and returns a list of `Document` objects.\n",
    "- **`len(splits)`:** This line calculates the length of the `splits` list. This gives you the total number of text chunks that were generated from the PDF documents.\n",
    "\n",
    "**Impact:**\n",
    "\n",
    "After running this code, the `splits` variable will contain a list of `Document` objects, each representing a text chunk extracted from one of the PDF documents. The length of `splits` will indicate the total number of chunks created.\n"
   ]
  },
  {
   "cell_type": "code",
   "execution_count": 9,
   "id": "dd54bf99-690a-46b5-8a65-7f7618f0b1a3",
   "metadata": {},
   "outputs": [
    {
     "data": {
      "text/plain": [
       "152"
      ]
     },
     "execution_count": 9,
     "metadata": {},
     "output_type": "execute_result"
    }
   ],
   "source": [
    "# Partitioning the data. With a limited size (chunks) \n",
    "# and 200 characters of overlapping to preserve the context\n",
    "text_splitter = RecursiveCharacterTextSplitter(\n",
    "    separators=[\"\\n\\n\", \"\\n\", \". \", \" \", \"\"],\n",
    "    chunk_size=1000,\n",
    "    chunk_overlap=200\n",
    ")\n",
    "splits = text_splitter.split_documents(data_on_pdf)\n",
    "# Number of Chunks generated\n",
    "len(splits)"
   ]
  },
  {
   "cell_type": "markdown",
   "id": "f2456d6f-a508-471f-8777-3df2d3d60487",
   "metadata": {},
   "source": [
    "### Create a new embedding model `all-MiniLM-L6-v2` and Create a VectorDB and store the documents split in it in the the embedded form"
   ]
  },
  {
   "cell_type": "markdown",
   "id": "79d6c3a2-3df7-4c2e-af99-1746eada351a",
   "metadata": {},
   "source": [
    "**Purpose:**\n",
    "\n",
    "This code sets up the creation of text embeddings for the previously split text chunks (`splits`) and stores them in a vector database.\n",
    "\n",
    "**Explanation:**\n",
    "\n",
    "- **`embeddings_model = SentenceTransformerEmbeddings(model_name=\"all-MiniLM-L6-v2\")`:**\n",
    "  - This line initializes an instance of the `SentenceTransformerEmbeddings` class.\n",
    "  - This class is responsible for generating vector representations (embeddings) for text using pre-trained sentence transformer models.\n",
    "  - The `model_name` parameter specifies the pre-trained model to be used. Here, it's set to \"all-MiniLM-L6-v2\", which is a Sentence Transformer model based on the MiniLM-L6-v2 language model from Hugging Face (link provided).\n",
    "\n",
    "**Note:**\n",
    "\n",
    "- You can choose different pre-trained models available on Hugging Face ([invalid URL removed]) depending on your specific needs and the domain of your text data.\n",
    "\n",
    "- **`path_db = \"langchain_store\"`:** This line sets the variable `path_db` to the string \"langchain_store\". This specifies the directory where the database will be stored.\n",
    "\n",
    "- **`vectorstore = Chroma.from_documents(documents=splits, embedding=embeddings_model, persist_directory=path_db)`:**\n",
    "  - This line creates an instance of the `Chroma` class, which is a vector database used by LangChain.\n",
    "  - The `from_documents` method is used to initialize the database with the provided documents (`splits`) and the chosen embedding model (`embeddings_model`).\n",
    "  - The `persist_directory` argument specifies the directory (`path_db`) where the database will be persisted on disk. This ensures that the database contents are saved and can be reused across sessions.\n",
    "\n",
    "**Impact:**\n",
    "\n",
    "After running this code, the `vectorstore` object will contain a vector database. Each document (text chunk) from the `splits` list will be stored as a key, along with its corresponding embedding vector generated by the `embeddings_model`. This allows you to efficiently retrieve documents based on their semantic similarity by querying the vector database.\n",
    "\n",
    "**Benefits of Using a Vector Database:**\n",
    "\n",
    "- Fast retrieval of similar documents based on their embeddings.\n",
    "- Efficient storage and management of large collections of text data.\n",
    "- Enables powerful information retrieval and search functionalities."
   ]
  },
  {
   "cell_type": "code",
   "execution_count": 10,
   "id": "7afe3933-92ab-4586-b5de-61d008fddceb",
   "metadata": {},
   "outputs": [
    {
     "name": "stderr",
     "output_type": "stream",
     "text": [
      "/var/folders/q1/s7gqh_bd79v7bvph1qyc140ww74xyy/T/ipykernel_77700/2200834708.py:4: LangChainDeprecationWarning: The class `HuggingFaceEmbeddings` was deprecated in LangChain 0.2.2 and will be removed in 1.0. An updated version of the class exists in the langchain-huggingface package and should be used instead. To use it run `pip install -U langchain-huggingface` and import as `from langchain_huggingface import HuggingFaceEmbeddings`.\n",
      "  embeddings_model = SentenceTransformerEmbeddings(model_name=\"all-MiniLM-L6-v2\")\n",
      "/Users/mohit.dubey/anaconda3/envs/miniforge/lib/python3.11/site-packages/transformers/tokenization_utils_base.py:1601: FutureWarning: `clean_up_tokenization_spaces` was not set. It will be set to `True` by default. This behavior will be depracted in transformers v4.45, and will be then set to `False` by default. For more details check this issue: https://github.com/huggingface/transformers/issues/31884\n",
      "  warnings.warn(\n"
     ]
    }
   ],
   "source": [
    "# For the creation of the embeddings we will use Hugging Face\n",
    "# https://huggingface.co/sentence-transformers/all-MiniLM-L6-v2\n",
    "# You can use any other model\n",
    "embeddings_model = SentenceTransformerEmbeddings(model_name=\"all-MiniLM-L6-v2\")"
   ]
  },
  {
   "cell_type": "code",
   "execution_count": 11,
   "id": "941f8a6a-9029-480a-b09f-bb243a46f544",
   "metadata": {},
   "outputs": [],
   "source": [
    "# Database folder path\n",
    "path_db = \"langchain_store\" # @param {type:\"string\"}\n",
    "#  Store the chunks in the DataBase\n",
    "vectorstore = Chroma.from_documents(documents=splits, embedding=embeddings_model, persist_directory=path_db)"
   ]
  },
  {
   "cell_type": "markdown",
   "id": "58dff6e8-976c-416b-9ed0-9a0322dc01dc",
   "metadata": {},
   "source": [
    "### Create LLM and VectorStore retriever"
   ]
  },
  {
   "cell_type": "markdown",
   "id": "67d556d0-3704-49b7-b736-5f1b86b89b8e",
   "metadata": {},
   "source": [
    "**Purpose:**\n",
    "\n",
    "This code snippet creates a `Retriever` object from a given `Chroma` vector store. The `Retriever` object provides an interface for retrieving documents from the vector store based on semantic similarity.\n",
    "\n",
    "**Explanation:**\n",
    "\n",
    "- **`vectorstore.as_retriever()`:** This method is called on the `Chroma` object `vectorstore`. It converts the vector store into a `Retriever` object. The `Retriever` object encapsulates the vector store and provides a convenient way to interact with it for document retrieval.\n",
    "\n",
    "**Impact:**\n",
    "\n",
    "After running this code, the `retriever` variable will contain a `Retriever` object. This object can be used to query the vector store for documents that are semantically similar to a given query.ch as specifying the number of documents to retrieve or adjusting the similarity threshold.\n",
    "\n",
    "By using the `Retriever` object, you can easily query the vector store for relevant documents based on their semantic content.\n"
   ]
  },
  {
   "cell_type": "code",
   "execution_count": 12,
   "id": "1c28696f-526d-4a77-a2e6-1b8632ff5d3f",
   "metadata": {},
   "outputs": [],
   "source": [
    "retriever = vectorstore.as_retriever()"
   ]
  },
  {
   "cell_type": "markdown",
   "id": "ff9c3d09-af0b-4cc0-b4fc-29229f6688d8",
   "metadata": {},
   "source": [
    "**Purpose:**\n",
    "\n",
    "This code snippet creates an instance of the `ChatGoogleGenerativeAI` class, which represents a conversational language model based on Google's Gemini model. The configuration parameters are set to control the generation process.\n",
    "\n",
    "**Explanation:**\n",
    "\n",
    "- **`gen_config = genai.types.GenerationConfig(candidate_count=1)`:**\n",
    "  - This line creates an instance of the `GenerationConfig` class from the `genai.types` module.\n",
    "  - The `candidate_count` parameter is set to 1, which means that the model will only generate one text response for each prompt.\n",
    "\n",
    "- **`llm = ChatGoogleGenerativeAI(model=\"gemini-1.5-pro\", temperature=0, max_tokens=None, timeout=None, max_retries=2, generation_config = gen_config, api_key=gemini_key)`:**\n",
    "  - This line creates an instance of the `ChatGoogleGenerativeAI` class. The following parameters are specified:\n",
    "    - `model`: The name of the language model to use. In this case, it's set to \"gemini-1.5-pro\", indicating the Gemini 1.5 Pro model.\n",
    "    - `temperature`: The temperature parameter controls the randomness of the generated text. A temperature of 0 means that the model will always generate the most likely response.\n",
    "    - `max_tokens`: The maximum number of tokens (words or subwords) that the model can generate in a single response. If set to `None`, there is no limit.\n",
    "    - `timeout`: The maximum time (in seconds) that the model can take to generate a response. If set to `None`, there is no limit.\n",
    "    - `max_retries`: The maximum number of times the model will retry generating a response if an error occurs.\n",
    "    - `generation_config`: The `GenerationConfig` object created earlier, which specifies the desired number of candidates for each response.\n",
    "    - `api_key`: The API key for accessing the Gemini model.\n",
    "\n",
    "**Impact:**\n",
    "\n",
    "After running this code, the `llm` variable will contain an instance of the `ChatGoogleGenerativeAI` class. This object can be used to interact with the Gemini model and generate text responses based on prompts. The configuration parameters will control the generation process, ensuring that the model generates only one response and uses the specified temperature and token limits."
   ]
  },
  {
   "cell_type": "code",
   "execution_count": 13,
   "id": "42312a0b-14e0-4aef-a30d-e1b0fc07ccd1",
   "metadata": {},
   "outputs": [
    {
     "data": {
      "text/plain": [
       "ChatGoogleGenerativeAI(model='models/gemini-1.5-pro', google_api_key=SecretStr('**********'), temperature=0.0, max_retries=2, client=<google.ai.generativelanguage_v1beta.services.generative_service.client.GenerativeServiceClient object at 0x37e97c410>, async_client=<google.ai.generativelanguage_v1beta.services.generative_service.async_client.GenerativeServiceAsyncClient object at 0x3d26ead90>, default_metadata=())"
      ]
     },
     "execution_count": 13,
     "metadata": {},
     "output_type": "execute_result"
    }
   ],
   "source": [
    "gen_config = genai.types.GenerationConfig(candidate_count=1)\n",
    "llm = ChatGoogleGenerativeAI(model=\"gemini-1.5-pro\",\n",
    "                         temperature=0,\n",
    "                         max_tokens=None,\n",
    "                         timeout=None,\n",
    "                         max_retries=2,\n",
    "                         generation_config = gen_config,\n",
    "                         api_key=gemini_key\n",
    "                         )\n",
    "llm"
   ]
  },
  {
   "cell_type": "code",
   "execution_count": 14,
   "id": "e6292112-097e-4716-aad7-bcc8b26ea641",
   "metadata": {},
   "outputs": [],
   "source": [
    "# https://smith.langchain.com/hub/rlm/rag-prompt\n",
    "# prompt = hub.pull(\"rlm/rag-prompt\")\n",
    "# prompt"
   ]
  },
  {
   "cell_type": "markdown",
   "id": "6b349147-ae06-4c9f-96b8-fa602276522f",
   "metadata": {},
   "source": [
    "### Business logic"
   ]
  },
  {
   "cell_type": "markdown",
   "id": "b857a450-bf2a-4a2c-ac97-890d1c9de0c6",
   "metadata": {},
   "source": [
    "**`get_store_results` function:**\n",
    "\n",
    "- **Purpose:** Retrieves relevant documents from the vector store based on a given query.\n",
    "- **Parameters:**\n",
    "  - `question`: The query string to search for.\n",
    "- **Returns:**\n",
    "  - A tuple containing:\n",
    "    - `docs`: A list of relevant documents retrieved from the vector store.\n",
    "    - `question`: The original query string.\n",
    "- **Implementation:**\n",
    "  - Sets the search keyword arguments to specify the minimum score threshold and the maximum number of documents to retrieve.\n",
    "  - Calls the `get_relevant_documents` method of the `retriever` object to retrieve documents based on the query and search keyword arguments.\n",
    "  - Returns the retrieved documents and the original query.\n",
    "\n",
    "**`cross_encoder_ranking` function:**\n",
    "\n",
    "- **Purpose:** Reranks the retrieved documents using a cross-encoder model to improve relevance.\n",
    "- **Parameters:**\n",
    "  - `docs`: A list of retrieved documents.\n",
    "  - `question`: The original query string.\n",
    "- **Returns:**\n",
    "  - A DataFrame containing the reranked documents with their metadata and page content.\n",
    "- **Implementation:**\n",
    "  - Loads a pre-trained cross-encoder model from Hugging Face.\n",
    "  - Creates a DataFrame from the retrieved documents, extracting their metadata and page content.\n",
    "  - Converts the metadata to strings for compatibility with the cross-encoder model.\n",
    "  - Creates a list of input pairs for the cross-encoder, consisting of the query and each document's page content.\n",
    "  - Predicts the relevance scores for each input pair using the cross-encoder model and stores them in the DataFrame.\n",
    "  - Removes duplicate documents from the DataFrame.\n",
    "  - Sorts the DataFrame by the reranked scores in descending order.\n",
    "  - Returns the DataFrame containing the reranked documents.\n",
    "\n",
    "**`results_runnable` function:**\n",
    "\n",
    "- **Purpose:** Combines the `get_store_results` and `cross_encoder_ranking` functions to retrieve and rerank documents based on a given query.\n",
    "- **Parameters:**\n",
    "  - `question`: The query string to search for.\n",
    "- **Returns:**\n",
    "  - A DataFrame containing the reranked documents with their metadata and page content.\n",
    "- **Implementation:**\n",
    "  - Calls the `get_store_results` function to retrieve relevant documents.\n",
    "  - Calls the `cross_encoder_ranking` function to rerank the retrieved documents.\n",
    "  - Returns the reranked documents as a DataFrame.\n",
    "\n",
    "**Overall Functionality:**\n",
    "\n",
    "The `results_runnable` function provides a pipeline for retrieving and reranking documents based on a given query. It first retrieves relevant documents from the vector store using the `get_store_results` function and then reranks them using a cross-encoder model to improve relevance. The final result is a DataFrame containing the reranked documents with their metadata and page content.\n"
   ]
  },
  {
   "cell_type": "code",
   "execution_count": 15,
   "id": "441f5a66-5182-4bf4-a15e-2b09f63e7fde",
   "metadata": {},
   "outputs": [],
   "source": [
    "def get_store_results(question):\n",
    "    search_kwargs = {\"score_threshold\":0.8,\"k\":10}\n",
    "    docs = retriever.get_relevant_documents(query=question, search_kwargs=search_kwargs)\n",
    "    return docs, question\n",
    "    \n",
    "def cross_encoder_ranking(docs, question):\n",
    "    cross_encoder = CrossEncoder('cross-encoder/ms-marco-MiniLM-L-12-v2')\n",
    "    res_df = pd.DataFrame([t.__dict__ for t in docs])[[\"metadata\", \"page_content\"]]\n",
    "    res_df.metadata = res_df.metadata.apply(lambda x: str(x))\n",
    "    cross_inputs = [[question, response.page_content] for response in docs]\n",
    "    res_df[\"Reranks\"] = cross_encoder.predict(cross_inputs)\n",
    "    res_df = res_df.drop_duplicates()\n",
    "    res_df = res_df.sort_values(by='Reranks', ascending=False)\n",
    "    return res_df[[\"metadata\", \"page_content\"]]\n",
    "    "
   ]
  },
  {
   "cell_type": "markdown",
   "id": "257cb9e5-67a9-488b-ab8a-a9f597a78a46",
   "metadata": {},
   "source": [
    "### Pipeline to run search and reranking\n",
    "The `results_runnable` function provides a pipeline for retrieving and reranking documents based on a given query. It first retrieves relevant documents from the vector store using the `get_store_results` function and then reranks them using a cross-encoder model to improve relevance. The final result is a DataFrame containing the reranked documents with their metadata and page content."
   ]
  },
  {
   "cell_type": "code",
   "execution_count": 16,
   "id": "64196eda-fcb7-4b46-8852-468450afe2c2",
   "metadata": {},
   "outputs": [],
   "source": [
    "def results_runnable(question):\n",
    "    # question = \"What can you tell me about life insurance premiums? \"\n",
    "    docs, question = get_store_results(question)\n",
    "    result = cross_encoder_ranking(docs, question)\n",
    "\n",
    "    return result"
   ]
  },
  {
   "cell_type": "code",
   "execution_count": 17,
   "id": "c0cf316c-4ce0-4d51-822d-f80fb098e9e2",
   "metadata": {},
   "outputs": [
    {
     "name": "stderr",
     "output_type": "stream",
     "text": [
      "/var/folders/q1/s7gqh_bd79v7bvph1qyc140ww74xyy/T/ipykernel_77700/994235733.py:3: LangChainDeprecationWarning: The method `BaseRetriever.get_relevant_documents` was deprecated in langchain-core 0.1.46 and will be removed in 1.0. Use invoke instead.\n",
      "  docs = retriever.get_relevant_documents(query=question, search_kwargs=search_kwargs)\n",
      "huggingface/tokenizers: The current process just got forked, after parallelism has already been used. Disabling parallelism to avoid deadlocks...\n",
      "To disable this warning, you can either:\n",
      "\t- Avoid using `tokenizers` before the fork if possible\n",
      "\t- Explicitly set the environment variable TOKENIZERS_PARALLELISM=(true | false)\n",
      "/Users/mohit.dubey/anaconda3/envs/miniforge/lib/python3.11/site-packages/transformers/tokenization_utils_base.py:1601: FutureWarning: `clean_up_tokenization_spaces` was not set. It will be set to `True` by default. This behavior will be depracted in transformers v4.45, and will be then set to `False` by default. For more details check this issue: https://github.com/huggingface/transformers/issues/31884\n",
      "  warnings.warn(\n"
     ]
    }
   ],
   "source": [
    "question = \"What are the age related conditions in the life insurance?\"\n",
    "temp_df = results_runnable(question)"
   ]
  },
  {
   "cell_type": "code",
   "execution_count": 18,
   "id": "46f76ce4-dc8b-4702-b879-d45f05a88b66",
   "metadata": {},
   "outputs": [
    {
     "data": {
      "text/html": [
       "<div>\n",
       "<style scoped>\n",
       "    .dataframe tbody tr th:only-of-type {\n",
       "        vertical-align: middle;\n",
       "    }\n",
       "\n",
       "    .dataframe tbody tr th {\n",
       "        vertical-align: top;\n",
       "    }\n",
       "\n",
       "    .dataframe thead th {\n",
       "        text-align: right;\n",
       "    }\n",
       "</style>\n",
       "<table border=\"1\" class=\"dataframe\">\n",
       "  <thead>\n",
       "    <tr style=\"text-align: right;\">\n",
       "      <th></th>\n",
       "      <th>metadata</th>\n",
       "      <th>page_content</th>\n",
       "    </tr>\n",
       "  </thead>\n",
       "  <tbody>\n",
       "    <tr>\n",
       "      <th>1</th>\n",
       "      <td>{'page': 45, 'source': 'documents/Principal-Sample-Life-Insurance-Policy.pdf'}</td>\n",
       "      <td>Age % of Scheduled Benefit (or approved  \\namount,  whichever applies)  \\n Age 70 but less than age 75  65% \\n Age 75 and over  45% \\n   \\nArticle 2 - Death Benefits Payable  \\n \\nIf a Member dies while insured for Member Life Insurance under this Group Policy, The \\nPrincipal will pay his or her beneficiary the Scheduled Benefit (or approved amount, if \\napplicable) in force on the date of death, less any Accelerated Benefit payment as described in PART IV, Section A, Article 7.  However, if a beneficiary is suspected or charged with the</td>\n",
       "    </tr>\n",
       "    <tr>\n",
       "      <th>0</th>\n",
       "      <td>{'page': 52, 'source': 'documents/Principal-Sample-Life-Insurance-Policy.pdf'}</td>\n",
       "      <td>apply.  \\n \\nFor the age(s) shown below, the amount of a Member's insurance will be the percentage of the Scheduled Benefit (or approved amount, if a pplicable) as shown below.  \\n \\n \\n Age % of Scheduled Benefit (or approved  \\namount, whichever applies)  \\n Age 70 but less than age 75  65% \\n Age 75 and over  45% \\n   \\nArticle 2 - Benefit Qualification  \\n \\nTo qualify for benefit payment, all of the following must occur:  \\n \\na. the Member must be injured while insured for Member Accidental Death and Dismemberment Insurance under this Group Policy; and  \\n b. the injury must be through external, violent, and accidental means; and  \\n c. the injury must be the direct and sole cause of a loss listed in this Section B, Article 3; and  \\n d. the loss must occur within 365 days of the injury; and \\n e. the limitations listed in this Section B, Article 9, must not apply; and</td>\n",
       "    </tr>\n",
       "    <tr>\n",
       "      <th>3</th>\n",
       "      <td>{'page': 42, 'source': 'documents/Principal-Sample-Life-Insurance-Policy.pdf'}</td>\n",
       "      <td>Member Life Insurance benefit in force o n the date the Member ceases Active Work, \\nless any individual policy amount purchased earlier under this Article 1, and less any \\nAccelerated Benefit payment as described in PART IV, Section A, Article 7.  \\n  \\nArticle 2 - Dependent Life Insurance  \\n \\na. Individua l Policy  \\n \\nIf a Dependent qualifies and makes timely application, he or she may purchase an individual policy of life insurance under these terms:  \\n \\n(1) The Dependent will not be required to submit Proof of Good Health. \\n(2) The policy will be for life insurance only.  No disability or other benefits will be \\nincluded. \\n(3) The policy will be on one of the forms, other than term insurance, then issued by The \\nPrincipal to persons in the risk class to which the Dependent belongs on the individual policy's effective date.</td>\n",
       "    </tr>\n",
       "    <tr>\n",
       "      <th>2</th>\n",
       "      <td>{'page': 7, 'source': 'documents/Principal-Sample-Life-Insurance-Policy.pdf'}</td>\n",
       "      <td>Limitations  Article 9  \\n \\n \\n Section C - Dependent Life  Insurance  \\n \\n \\n Schedule of Insurance  Article 1  \\n Death Benefits Payable  Article 2  \\n Beneficiary  Article 3  \\n \\n \\n Section D - Claim Procedures  \\n \\n \\n Notice of Claim  Article 1  \\n Claim Forms  Article 2  \\n Proof of Loss  Article 3  \\n Payment, Denial and Review  Article 4 \\n Medical Examinations  Article 5  \\n Autopsy  Article 6  \\n Legal Action  Article 7  \\n Time Limits  Article 8</td>\n",
       "    </tr>\n",
       "  </tbody>\n",
       "</table>\n",
       "</div>"
      ],
      "text/plain": [
       "                                                                         metadata  \\\n",
       "1  {'page': 45, 'source': 'documents/Principal-Sample-Life-Insurance-Policy.pdf'}   \n",
       "0  {'page': 52, 'source': 'documents/Principal-Sample-Life-Insurance-Policy.pdf'}   \n",
       "3  {'page': 42, 'source': 'documents/Principal-Sample-Life-Insurance-Policy.pdf'}   \n",
       "2   {'page': 7, 'source': 'documents/Principal-Sample-Life-Insurance-Policy.pdf'}   \n",
       "\n",
       "                                                                                                                                                                                                                                                                                                                                                                                                                                                                                                                                                                                                                                                                                                                                                                                                                                                                                                              page_content  \n",
       "1                                                                                                                                                                                                                                                                                                                                                         Age % of Scheduled Benefit (or approved  \\namount,  whichever applies)  \\n Age 70 but less than age 75  65% \\n Age 75 and over  45% \\n   \\nArticle 2 - Death Benefits Payable  \\n \\nIf a Member dies while insured for Member Life Insurance under this Group Policy, The \\nPrincipal will pay his or her beneficiary the Scheduled Benefit (or approved amount, if \\napplicable) in force on the date of death, less any Accelerated Benefit payment as described in PART IV, Section A, Article 7.  However, if a beneficiary is suspected or charged with the  \n",
       "0  apply.  \\n \\nFor the age(s) shown below, the amount of a Member's insurance will be the percentage of the Scheduled Benefit (or approved amount, if a pplicable) as shown below.  \\n \\n \\n Age % of Scheduled Benefit (or approved  \\namount, whichever applies)  \\n Age 70 but less than age 75  65% \\n Age 75 and over  45% \\n   \\nArticle 2 - Benefit Qualification  \\n \\nTo qualify for benefit payment, all of the following must occur:  \\n \\na. the Member must be injured while insured for Member Accidental Death and Dismemberment Insurance under this Group Policy; and  \\n b. the injury must be through external, violent, and accidental means; and  \\n c. the injury must be the direct and sole cause of a loss listed in this Section B, Article 3; and  \\n d. the loss must occur within 365 days of the injury; and \\n e. the limitations listed in this Section B, Article 9, must not apply; and  \n",
       "3                                        Member Life Insurance benefit in force o n the date the Member ceases Active Work, \\nless any individual policy amount purchased earlier under this Article 1, and less any \\nAccelerated Benefit payment as described in PART IV, Section A, Article 7.  \\n  \\nArticle 2 - Dependent Life Insurance  \\n \\na. Individua l Policy  \\n \\nIf a Dependent qualifies and makes timely application, he or she may purchase an individual policy of life insurance under these terms:  \\n \\n(1) The Dependent will not be required to submit Proof of Good Health. \\n(2) The policy will be for life insurance only.  No disability or other benefits will be \\nincluded. \\n(3) The policy will be on one of the forms, other than term insurance, then issued by The \\nPrincipal to persons in the risk class to which the Dependent belongs on the individual policy's effective date.  \n",
       "2                                                                                                                                                                                                                                                                                                                                                                                                                                        Limitations  Article 9  \\n \\n \\n Section C - Dependent Life  Insurance  \\n \\n \\n Schedule of Insurance  Article 1  \\n Death Benefits Payable  Article 2  \\n Beneficiary  Article 3  \\n \\n \\n Section D - Claim Procedures  \\n \\n \\n Notice of Claim  Article 1  \\n Claim Forms  Article 2  \\n Proof of Loss  Article 3  \\n Payment, Denial and Review  Article 4 \\n Medical Examinations  Article 5  \\n Autopsy  Article 6  \\n Legal Action  Article 7  \\n Time Limits  Article 8  "
      ]
     },
     "execution_count": 18,
     "metadata": {},
     "output_type": "execute_result"
    }
   ],
   "source": [
    "temp_df"
   ]
  },
  {
   "cell_type": "markdown",
   "id": "cb40e538-0b2c-416b-bc08-e670ad56741f",
   "metadata": {},
   "source": [
    "### Prompt for the LLM\n",
    "- Input variables - `question` and `context`"
   ]
  },
  {
   "cell_type": "code",
   "execution_count": 19,
   "id": "db17da0a-c11a-45c0-b826-d1e6ff1c38a3",
   "metadata": {},
   "outputs": [],
   "source": [
    "prompt = ChatPromptTemplate.from_messages(\n",
    "    [(\"system\", \"\"\"\n",
    "You are a highly skilled insurance expert tasked with answering user queries using the provided search results. These results are one or more pages from relevant insurance documents that contain the information needed to address the query.\n",
    "\n",
    "You have a user query: '{question}'. The relevant search results are in the DataFrame '{context}'. The 'page_content' column contains the text from the policy documents, and the 'metadata' column contains the policy name and source page.\n",
    "        **Your Task:**\n",
    "        1. **Analyze the Query:** Carefully understand the user's intent and the specific information they are seeking.\n",
    "        2. **Identify Relevant Documents:** Select the most pertinent documents from the search results based on their content and relevance to the query.\n",
    "        3. **Extract Key Information:** Carefully extract the required information from the selected documents, ensuring accuracy and completeness.\n",
    "        4. **Construct a Comprehensive Response:** Craft a clear, concise, and informative response that directly addresses the user's query.\n",
    "        5. **Provide Citations:** Cite the specific policy names and page numbers where the information was found, using the following format:\n",
    "\n",
    "            **[Policy Name], [Page Number]**\n",
    "\n",
    "            **References:**\n",
    "            * [Policy Name 1], [Page Number 1]\n",
    "            * [Policy Name 2], [Page Number 2]\n",
    "            * ...\n",
    "\n",
    "        **Guidelines:**\n",
    "        * **Accuracy:** Ensure that your response is factually correct and consistent with the information provided in the documents.\n",
    "        * **Relevance:** Focus on the most relevant information and avoid providing unnecessary details.\n",
    "        * **Clarity:** Use plain language and avoid technical jargon.\n",
    "        * **Completeness:** Provide a comprehensive answer that covers all aspects of the user's query.\n",
    "        * **Conciseness:** Be brief and to the point, while still providing sufficient detail.\n",
    "\n",
    "        **Example Response:**\n",
    "        > The maximum coverage for [policy type] is [amount], as stated in **[Policy Name], [Page Number]**.\n",
    "\n",
    "            **References:**\n",
    "            * **[Policy Name 1], [Page Number 1]**\n",
    "            * **[Policy Name 2], [Page Number 2]**\n",
    "\n",
    "        Important: Take the policy name and page number from metadata column only\n",
    "        \n",
    "        If you cannot find sufficient information to answer the query, indicate that and suggest possible alternative approaches or resources.\n",
    "        \"\"\"), (\"human\", \"{question}\")]\n",
    ")\n"
   ]
  },
  {
   "cell_type": "markdown",
   "id": "fa9ace81-8f2e-49da-ac77-b73b71cec2d4",
   "metadata": {},
   "source": [
    "### RAG pipeline\n",
    "- Search and rerank\n",
    "- Generate the context\n",
    "- Integrate the prompt\n",
    "- Invoke the LLM\n",
    "- Parse string output"
   ]
  },
  {
   "cell_type": "markdown",
   "id": "10337e58-53ae-4d01-8793-6851626b6be8",
   "metadata": {},
   "source": [
    "**Purpose:**\n",
    "\n",
    "This code snippet creates a LangChain RAG chain, which combines a retriever function, a prompt, a language model, and an output parser to provide a comprehensive question-answering system.\n",
    "\n",
    "**Explanation:**\n",
    "\n",
    "- **`{\"context\" : results_runnable, \"question\" : RunnablePassthrough()}`:**\n",
    "  - This creates a dictionary that defines the components of the RAG chain:\n",
    "    - `context`: Specifies the `results_runnable` function as the context retriever. This function will be used to retrieve relevant documents based on the query.\n",
    "    - `question`: Specifies the `RunnablePassthrough` object as the question handler. This object will simply pass the query through without any modification.\n",
    "\n",
    "- **`| prompt`:**\n",
    "  - This pipe operator connects the context and question components to a prompt template. The prompt template will be used to format the query and retrieved documents into a suitable input for the language model.\n",
    "\n",
    "- **`| llm`:**\n",
    "  - This pipe operator connects the prompt template to the `llm` object, which represents the language model (in this case, the Gemini model). The language model will process the formatted prompt and generate a response.\n",
    "\n",
    "- **`| StrOutputParser()`:**\n",
    "  - This pipe operator connects the language model to the `StrOutputParser` object. This parser will ensure that the output from the language model is parsed as a string.\n",
    "\n",
    "**Impact:**\n",
    "\n",
    "After running this code, the `rag_chain` variable will contain a RAG chain that can be used to answer questions based on the retrieved documents. When a query is provided to the RAG chain, it will:\n",
    "\n",
    "1. Retrieve relevant documents using the `results_runnable` function.\n",
    "2. Format the query and retrieved documents into a prompt using the prompt template.\n",
    "3. Pass the prompt to the language model.\n",
    "4. Parse the output from the language model as a string.\n",
    "\n",
    "The final output will be the generated response from the language model, based on the query and the retrieved documents.\n",
    "\n",
    "**Note:**\n",
    "\n",
    "- The specific prompt template used in the RAG chain will determine how the query and retrieved documents are combined into an input for the language model.\n",
    "- You can customize the RAG chain by modifying the context retriever, prompt template, language model, or output parser.\n",
    "- The `StrOutputParser` can be replaced with other output parsers if you need to parse the output in a different format.\n"
   ]
  },
  {
   "cell_type": "code",
   "execution_count": 20,
   "id": "578f3aea-8cb7-4518-8180-6adb0aef83de",
   "metadata": {},
   "outputs": [],
   "source": [
    "rag_chain = ({\"context\" : results_runnable, \"question\" : RunnablePassthrough()}\n",
    "             | prompt\n",
    "             | llm\n",
    "             | StrOutputParser()\n",
    "            )"
   ]
  },
  {
   "cell_type": "markdown",
   "id": "bd4b89b2-8bcf-4ba4-a113-1b1c8ca27951",
   "metadata": {},
   "source": [
    "### Testing the implementation\n",
    "The code you provided will retrieve relevant documents from the vector store based on the query \"What are the age related conditions in the life insurance?\", then rerank the documents using a cross-encoder model, and finally generate a response using the RAG chain.\n",
    "To get the actual response, you need to run the code and the output will be displayed as Markdown."
   ]
  },
  {
   "cell_type": "code",
   "execution_count": 21,
   "id": "a4adb9fc-0080-4a60-9ba1-fdd41b747663",
   "metadata": {},
   "outputs": [
    {
     "name": "stderr",
     "output_type": "stream",
     "text": [
      "/Users/mohit.dubey/anaconda3/envs/miniforge/lib/python3.11/site-packages/transformers/tokenization_utils_base.py:1601: FutureWarning: `clean_up_tokenization_spaces` was not set. It will be set to `True` by default. This behavior will be depracted in transformers v4.45, and will be then set to `False` by default. For more details check this issue: https://github.com/huggingface/transformers/issues/31884\n",
      "  warnings.warn(\n"
     ]
    },
    {
     "data": {
      "text/markdown": [
       "This policy outlines that for individuals aged 70 to 74, the life insurance benefit will be 65% of the Scheduled Benefit (or approved amount). For those aged 75 and older, the benefit decreases to 45% of the Scheduled Benefit (or approved amount). \n",
       "\n",
       "**[Principal-Sample-Life-Insurance-Policy.pdf], [Page 45 & 52]**\n",
       "\n",
       "**References:**\n",
       "* **Principal-Sample-Life-Insurance-Policy.pdf, Page 45**\n",
       "* **Principal-Sample-Life-Insurance-Policy.pdf, Page 52** \n"
      ],
      "text/plain": [
       "<IPython.core.display.Markdown object>"
      ]
     },
     "metadata": {},
     "output_type": "display_data"
    }
   ],
   "source": [
    "question = \"What are the age related conditions in the life insurance?\"\n",
    "result = rag_chain.invoke(question)\n",
    "display(Markdown(result))"
   ]
  },
  {
   "cell_type": "code",
   "execution_count": null,
   "id": "a7a811eb-191e-408a-82a4-c1f18c40fe48",
   "metadata": {},
   "outputs": [],
   "source": []
  },
  {
   "cell_type": "markdown",
   "id": "68f9ecfb-b79a-4d73-8cf2-f6f66884cae8",
   "metadata": {},
   "source": [
    "--------------------------------"
   ]
  },
  {
   "cell_type": "markdown",
   "id": "9c56f859-45f6-4292-b47a-56f5abe71668",
   "metadata": {},
   "source": [
    "## **RAG with LlamaIndex - Why Use Llama Index**\n",
    "\n",
    "Llama Index, a framework designed for building applications powered by large language models (LLMs), offers several key advantages that are evident in the provided code:\n",
    "\n",
    "#### 1. **Efficient Document Management and Retrieval:**\n",
    "\n",
    "* **Vector Store Index:** The use of a vector store index allows for efficient storage and retrieval of documents based on their semantic similarity. This enables the system to quickly find relevant information based on the context of the query.\n",
    "* **Document Loading and Processing:** Llama Index provides tools for loading and processing documents, including text splitting and embedding generation. This simplifies the process of preparing documents for use with the LLM.\n",
    "\n",
    "#### 2. **Flexible Query Processing:**\n",
    "\n",
    "* **Retriever and Query Engine:** The `RetrieverQueryEngine` combines a retriever for document retrieval and a response synthesizer for generating responses. This modular architecture allows for customization and flexibility in the query processing pipeline.\n",
    "* **Prompt Engineering:** Llama Index provides tools for creating and managing prompts, which are the instructions given to the LLM. This allows you to fine-tune the LLM's responses and guide its behavior.\n",
    "\n",
    "#### 3. **Integration with LLMs:**\n",
    "\n",
    "* **Seamless Integration:** Llama Index seamlessly integrates with various LLMs, including Gemini. This enables you to leverage the power of these models for tasks like question answering, summarization, and text generation.\n",
    "* **Customization:** The framework allows you to customize the LLM's behavior through prompt engineering and other techniques.\n",
    "\n",
    "#### 4. **Extensibility and Customization:**\n",
    "\n",
    "* **Custom Components:** Llama Index provides a modular architecture that allows you to create custom components, such as retrievers, response synthesizers, or postprocessors, to tailor the system to your specific needs.\n",
    "* **Integration with Other Tools:** You can easily integrate Llama Index with other tools and libraries to enhance its capabilities.\n",
    "\n",
    "#### 5. **Performance and Efficiency:**\n",
    "\n",
    "* **Optimized for Large Datasets:** Llama Index is designed to handle large datasets efficiently, making it suitable for applications that require processing and querying vast amounts of information.\n",
    "\n",
    "**In summary, Llama Index offers a robust and flexible framework for building applications powered by LLMs. Its efficient document management, flexible query processing, integration with LLMs, extensibility, and performance make it a valuable tool for a wide range of natural language processing tasks.**\n"
   ]
  },
  {
   "cell_type": "markdown",
   "id": "f4791fd6-2d4f-46ab-a150-bac2b6e38934",
   "metadata": {},
   "source": [
    "### Import Libraries\n",
    "**Purpose:**\n",
    "\n",
    "This code imports necessary libraries for working with language models, embeddings, vector databases, and data analysis. It specifically leverages Llama Index, a framework for building applications powered by language models.\n",
    "\n",
    "**Key Libraries and Their Functions:**\n",
    "\n",
    "* **`llama_index.embeddings.huggingface.HuggingFaceEmbedding`:** Provides embeddings using Hugging Face models.\n",
    "* **`llama_index.llms.gemini.Gemini`:** Interacts with the Gemini language model.\n",
    "* **`llama_index.core.Settings`:** Configures settings for Llama Index.\n",
    "* **`llama_index.core.prompts.PromptTemplate`:** Creates prompts for language models.\n",
    "* **`llama_index.core.node_parser.SentenceSplitter`:** Splits text into sentences.\n",
    "* **`llama_index.core.VectorStoreIndex`:** Creates a vector store index for storing and retrieving embeddings.\n",
    "* **`llama_index.core.StorageContext`:** Manages storage for indices.\n",
    "* **`llama_index.core.get_response_synthesizer`:** Gets a response synthesizer.\n",
    "* **`llama_index.core.retrievers.VectorIndexRetriever`:** Retrieves documents from a vector index.\n",
    "* **`llama_index.core.query_engine.RetrieverQueryEngine`:** Creates a query engine using a retriever.\n",
    "* **`llama_index.core.postprocessor.SimilarityPostprocessor`:** Postprocesses query results based on similarity.\n",
    "* **`sentence_transformers.CrossEncoder`:** Computes similarity scores between pairs of sentences.\n",
    "* **`os`:** Provides functions for interacting with the operating system.\n",
    "* **`IPython.display`:** Enables displaying various types of output, including Markdown, in Jupyter Notebooks.\n",
    "* **`pandas`:** A powerful library for working with structured data.\n",
    "\n",
    "**Overall Functionality:**\n",
    "\n",
    "This code appears to be setting up the environment for building an application that processes text data, extracts information from it, and uses a language model to generate responses. The libraries provide the necessary tools for embedding, indexing, retrieving, and processing text data, as well as interacting with a language model.\n",
    "\n",
    "**Potential Use Cases:**\n",
    "\n",
    "* **Question Answering:** Extract information from text documents and answer questions based on their content.\n",
    "* **Summarization:** Summarize the key points of text documents.\n",
    "* **Text Generation:** Generate new text based on the content of text documents."
   ]
  },
  {
   "cell_type": "code",
   "execution_count": 22,
   "id": "c119f295-57dc-4ada-959c-ac845d04a0d5",
   "metadata": {},
   "outputs": [],
   "source": [
    "from llama_index.embeddings.huggingface import HuggingFaceEmbedding\n",
    "from llama_index.llms.gemini import Gemini\n",
    "\n",
    "from llama_index.core import Settings\n",
    "\n",
    "from llama_index.core.prompts import PromptTemplate\n",
    "\n",
    "from llama_index.core.node_parser import SentenceSplitter\n",
    "from llama_index.core import VectorStoreIndex\n",
    "from llama_index.core import StorageContext, load_index_from_storage\n",
    "from llama_index.core import get_response_synthesizer\n",
    "\n",
    "from llama_index.core.retrievers import VectorIndexRetriever\n",
    "from llama_index.core.query_engine import RetrieverQueryEngine\n",
    "from llama_index.core.postprocessor import SimilarityPostprocessor\n",
    "from llama_index.core import SimpleDirectoryReader\n",
    "\n",
    "\n",
    "from sentence_transformers import CrossEncoder"
   ]
  },
  {
   "cell_type": "code",
   "execution_count": 23,
   "id": "8ffcc720-5adb-4d54-8241-8530ec55b5da",
   "metadata": {},
   "outputs": [],
   "source": [
    "import os\n",
    "from IPython.display import display, Markdown\n",
    "import pandas as pd"
   ]
  },
  {
   "cell_type": "markdown",
   "id": "3bc16f86-9f1e-413c-b19e-5d6aca07b5fb",
   "metadata": {},
   "source": [
    "**Purpose:**\n",
    "\n",
    "This code snippet sets up the environment for using Hugging Face models and the Gemini language model by logging in to Hugging Face, setting the Google API key, and configuring the embedding model and LLM settings in Llama Index.\n",
    "\n",
    "**Explanation:**\n",
    "\n",
    "- **`from huggingface_hub import login`:** Imports the `login` function from the `huggingface_hub` library, which is used to log in to Hugging Face.\n",
    "- **`hf_token = open(\"API/hf_token\", \"r\").read()`:** Reads the Hugging Face API token from the \"API/hf_token\" file and stores it in the `hf_token` variable.\n",
    "- **`login(token = hf_token)`:** Logs in to Hugging Face using the provided API token. This allows you to access and use models from the Hugging Face Hub.\n",
    "- **`google_api_key = open(\"API/gemini_key\", \"r\").read()`:** Reads the Google API key from the \"API/gemini_key\" file and stores it in the `google_api_key` variable.\n",
    "- **`os.environ[\"GOOGLE_API_KEY\"] = google_api_key`:** Sets the environment variable `GOOGLE_API_KEY` to the value of `google_api_key`. This configures the Gemini language model to use the specified API key.\n",
    "- **`Settings.embed_model = HuggingFaceEmbedding(model_name=\"BAAI/bge-small-en-v1.5\")`:** Sets the `embed_model` setting in Llama Index to the `HuggingFaceEmbedding` class, specifying the model name \"BAAI/bge-small-en-v1.5\". This will use the specified Hugging Face model for generating embeddings.\n",
    "- **`Settings.llm = Gemini(model_name=\"models/gemini-1.5-pro\")`:** Sets the `llm` setting in Llama Index to the `Gemini` class, specifying the model name \"models/gemini-1.5-pro\". This will use the Gemini 1.5 Pro language model for generating responses.\n",
    "\n",
    "**Impact:**\n",
    "\n",
    "After running this code, the environment will be configured to use the specified Hugging Face model for embeddings and the Gemini language model for generating responses. You can now use Llama Index to interact with these models and perform tasks like question answering, summarization, and text generation."
   ]
  },
  {
   "cell_type": "code",
   "execution_count": 24,
   "id": "e7a8a0d0-cadf-4c63-a38e-40f6a810f9f0",
   "metadata": {},
   "outputs": [
    {
     "name": "stdout",
     "output_type": "stream",
     "text": [
      "The token has not been saved to the git credentials helper. Pass `add_to_git_credential=True` in this function directly or `--add-to-git-credential` if using via `huggingface-cli` if you want to set the git credential as well.\n",
      "Token is valid (permission: fineGrained).\n",
      "Your token has been saved to /Users/mohit.dubey/.cache/huggingface/token\n",
      "Login successful\n"
     ]
    }
   ],
   "source": [
    "from huggingface_hub import login\n",
    "hf_token = open(\"API/hf_token\", \"r\").read()\n",
    "login(token = hf_token)"
   ]
  },
  {
   "cell_type": "code",
   "execution_count": 25,
   "id": "e6cad263-1581-480c-bc1c-7c2276ffc8b6",
   "metadata": {},
   "outputs": [],
   "source": [
    "google_api_key = open(\"API/gemini_key\", \"r\").read()\n",
    "os.environ[\"GOOGLE_API_KEY\"] = google_api_key"
   ]
  },
  {
   "cell_type": "code",
   "execution_count": 26,
   "id": "2265a538-e013-416d-ad2d-ad86de5e2380",
   "metadata": {},
   "outputs": [],
   "source": [
    "Settings.embed_model = HuggingFaceEmbedding(model_name=\"BAAI/bge-small-en-v1.5\") # set the embedding model\n",
    "Settings.llm = Gemini(model_name=\"models/gemini-1.5-pro\")"
   ]
  },
  {
   "cell_type": "code",
   "execution_count": null,
   "id": "fef38d2b-4a0c-4040-91bc-a0ac9d34c427",
   "metadata": {},
   "outputs": [],
   "source": []
  },
  {
   "cell_type": "markdown",
   "id": "46648bf6-b621-441f-a587-213e793b8fa0",
   "metadata": {},
   "source": [
    "**Purpose:**\n",
    "\n",
    "This code snippet loads documents from a specified directory, splits them into sentences, and sets the text splitter in Llama Index settings.\n",
    "\n",
    "**Explanation:**\n",
    "\n",
    "- **`documents = SimpleDirectoryReader(input_dir=\"documents\").load_data()`:**\n",
    "  - Creates an instance of the `SimpleDirectoryReader` class, passing the `input_dir` as an argument.\n",
    "  - Loads all text files from the specified directory and returns a list of `Document` objects.\n",
    "  - Stores the list of documents in the `documents` variable.\n",
    "\n",
    "- **`text_splitter = SentenceSplitter(chunk_size=1000, chunk_overlap=200)`:**\n",
    "  - Creates an instance of the `SentenceSplitter` class, configuring it with the following parameters:\n",
    "    - `chunk_size`: The desired size of each text chunk in characters. Here, it's set to 1000.\n",
    "    - `chunk_overlap`: The number of characters that should overlap between adjacent chunks. Here, it's set to 200.\n",
    "\n",
    "- **`Settings.text_splitter = text_splitter`:**\n",
    "  - Sets the `text_splitter` setting in Llama Index to the `text_splitter` object created earlier. This will configure Llama Index to use the specified text splitter for splitting documents into chunks.\n",
    "\n",
    "**Impact:**\n",
    "\n",
    "After running this code, the `documents` variable will contain a list of `Document` objects, each representing a text document loaded from the specified directory. The `text_splitter` object will be set as the default text splitter in Llama Index settings.\n",
    "\n",
    "**Note:**\n",
    "\n",
    "- The `SimpleDirectoryReader` class can load text files from different formats, such as plain text, Markdown, or PDF.\n",
    "- The `SentenceSplitter` class can be used to split text into sentences based on various criteria, such as punctuation and sentence structure.\n",
    "- Setting the `text_splitter` in Llama Index settings ensures that the specified text splitter will be used for all subsequent document splitting operations.\n"
   ]
  },
  {
   "cell_type": "code",
   "execution_count": 27,
   "id": "60929719-efbb-4a5f-a3c9-4f95d78fd751",
   "metadata": {},
   "outputs": [],
   "source": [
    "documents = SimpleDirectoryReader(input_dir=\"documents\").load_data()"
   ]
  },
  {
   "cell_type": "code",
   "execution_count": 28,
   "id": "0274867a-daa7-4a50-89d7-16344eff7fb1",
   "metadata": {},
   "outputs": [],
   "source": [
    "text_splitter = SentenceSplitter(chunk_size=1000, chunk_overlap=200)\n",
    "\n",
    "# global\n",
    "Settings.text_splitter = text_splitter"
   ]
  },
  {
   "cell_type": "markdown",
   "id": "5cba6d2b-97f1-4bd6-8f3c-1de0815db11c",
   "metadata": {},
   "source": [
    "**Purpose:**\n",
    "\n",
    "This code snippet creates a vector store index from a list of documents, persists the index to storage, and then loads the index from storage for later use.\n",
    "\n",
    "**Explanation:**\n",
    "\n",
    "- **`index = VectorStoreIndex.from_documents(documents, transformations=[text_splitter])`:**\n",
    "  - Creates an instance of the `VectorStoreIndex` class, passing the `documents` list and the `text_splitter` as arguments.\n",
    "  - The `VectorStoreIndex` class stores embeddings of documents and allows for efficient retrieval based on semantic similarity.\n",
    "  - The `text_splitter` is used to split the documents into smaller chunks before embedding.\n",
    "\n",
    "- **`index.storage_context.persist(persist_dir=\"llamaIndex_store\")`:**\n",
    "  - Persists the index to the specified directory \"llamaIndex_store\". This saves the index to disk for later use.\n",
    "\n",
    "- **`storage_context = StorageContext.from_defaults(persist_dir=\"store\")`:**\n",
    "  - Creates a `StorageContext` object from the default settings, specifying the \"store\" directory as the persist directory.\n",
    "\n",
    "- **`index = load_index_from_storage(storage_context)`:**\n",
    "  - Loads the previously persisted index from the storage context. This allows you to reuse the index without having to create it again from scratch.\n",
    "\n",
    "**Impact:**\n",
    "\n",
    "After running this code, the `index` variable will contain a `VectorStoreIndex` object that represents the index of the documents. The index is persisted to storage, allowing you to load it later and use it for retrieval and other tasks.\n",
    "\n",
    "**Note:**\n",
    "\n",
    "- The `VectorStoreIndex` class uses a vector store to store the embeddings of the documents. The choice of vector store can affect the performance and efficiency of the index.\n",
    "- The `StorageContext` object provides a way to manage the storage of indices. You can customize the storage settings based on your needs.\n",
    "- By persisting the index, you can save time by avoiding the need to re-create the index from scratch each time you use it.\n"
   ]
  },
  {
   "cell_type": "code",
   "execution_count": 29,
   "id": "c2f657b0-28e0-40bb-96fc-8c2f94b07937",
   "metadata": {},
   "outputs": [],
   "source": [
    "index = VectorStoreIndex.from_documents(documents, transformations=[text_splitter])\n",
    "index.storage_context.persist(persist_dir=\"llamaIndex_store\")"
   ]
  },
  {
   "cell_type": "code",
   "execution_count": 30,
   "id": "5fa0a8b9-3a6f-4f62-9821-4af253857be3",
   "metadata": {},
   "outputs": [],
   "source": [
    "# rebuild storage context\n",
    "storage_context = StorageContext.from_defaults(persist_dir=\"store\")\n",
    "\n",
    "# load index\n",
    "index = load_index_from_storage(storage_context)"
   ]
  },
  {
   "cell_type": "markdown",
   "id": "ab335f6e-32d9-40d8-a6d0-812b743c65f3",
   "metadata": {},
   "source": [
    "**Purpose:**\n",
    "\n",
    "This code snippet creates a prompt template that will be used to format queries and context for a language model.\n",
    "\n",
    "**Explanation:**\n",
    "\n",
    "- **`PromptTemplate(template=template, template_var_mappings={\"query_str\": \"question\", \"context_str\": \"context\"})`:**\n",
    "  - Creates an instance of the `PromptTemplate` class, passing the following arguments:\n",
    "    - `template`: A string representing the template for the prompt. This template will contain placeholders for the query and context.\n",
    "    - `template_var_mappings`: A dictionary that maps variable names in the template to actual values. In this case, the variables \"query_str\" and \"context_str\" will be replaced with the actual query and context strings, respectively.\n",
    "\n",
    "**Impact:**\n",
    "\n",
    "After running this code, the `prompt_tmpl` variable will contain a `PromptTemplate` object. This object can be used to format queries and context into a suitable input for a language model.\n",
    "\n",
    "\n",
    "**Note:**\n",
    "\n",
    "- The `template` string can contain any text you want to include in the prompt, as well as placeholders for the query and context.\n",
    "- The `template_var_mappings` dictionary can be used to map any variables in the template to their corresponding values.\n",
    "- The `PromptTemplate` class provides methods for formatting prompts and replacing variables with actual values.\n"
   ]
  },
  {
   "cell_type": "code",
   "execution_count": 31,
   "id": "e2f90f48-07eb-4b66-a26e-bbdcf3a9f100",
   "metadata": {},
   "outputs": [],
   "source": [
    "template = \"\"\"\n",
    "You are a knowledgeable and precise assistant specialized in question-answering tasks, \n",
    "particularly from academic and research-based sources. \n",
    "Your goal is to provide accurate, concise, and contextually relevant answers based on the given information.\n",
    "\n",
    "Instructions:\n",
    "\n",
    "Comprehension and Accuracy: Carefully read and comprehend the provided context from the research paper to ensure accuracy in your response.\n",
    "Conciseness: Deliver the answer in no more than three sentences, ensuring it is concise and directly addresses the question.\n",
    "Truthfulness: If the context does not provide enough information to answer the question, clearly state, \"I don't know.\"\n",
    "Contextual Relevance: Ensure your answer is well-supported by the retrieved context and does not include any information beyond what is provided.\n",
    "\n",
    "Remember if no context is provided please say you don't know the answer\n",
    "Here is the question and context for you to work with:\n",
    "\n",
    "\\nQuestion: {question} \\nContext: {context} \\nAnswer:\n",
    "\n",
    "        **Your Task:**\n",
    "        1. **Analyze the Query:** Carefully understand the user's intent and the specific information they are seeking.\n",
    "        2. **Identify Relevant Documents:** Select the most pertinent documents from the search results based on their content and relevance to the query.\n",
    "        3. **Extract Key Information:** Carefully extract the required information from the selected documents, ensuring accuracy and completeness.\n",
    "        4. **Construct a Comprehensive Response:** Craft a clear, concise, and informative response that directly addresses the user's query.\n",
    "        5. **Provide Citations:** Cite the specific policy names and page numbers where the information was found, using the following format:\n",
    "\n",
    "            **[Policy Name], [Page Number]**\n",
    "\n",
    "            **References:**\n",
    "            * [Policy Name 1], [Page Number 1]\n",
    "            * [Policy Name 2], [Page Number 2]\n",
    "            * ...\n",
    "\n",
    "        **Guidelines:**\n",
    "        * **Accuracy:** Ensure that your response is factually correct and consistent with the information provided in the documents.\n",
    "        * **Relevance:** Focus on the most relevant information and avoid providing unnecessary details.\n",
    "        * **Clarity:** Use plain language and avoid technical jargon.\n",
    "        * **Completeness:** Provide a comprehensive answer that covers all aspects of the user's query.\n",
    "        * **Conciseness:** Be brief and to the point, while still providing sufficient detail.\n",
    "\n",
    "        **Example Response:**\n",
    "        > The maximum coverage for [policy type] is [amount], as stated in **[Policy Name], [Page Number]**.\n",
    "\n",
    "            **References:**\n",
    "            * **[Policy Name 1], [Page Number 1]**\n",
    "            * **[Policy Name 2], [Page Number 2]**\n",
    "\n",
    "        Important: Take the policy name and page number from metadata column only\n",
    "        \n",
    "        If you cannot find sufficient information to answer the query, indicate that and suggest possible alternative approaches or resources.\n",
    "        \"\"\"\n",
    "\n",
    "\n",
    "prompt_tmpl = PromptTemplate(\n",
    "    template=template,\n",
    "    template_var_mappings={\"query_str\": \"question\", \"context_str\": \"context\"},\n",
    ")"
   ]
  },
  {
   "cell_type": "markdown",
   "id": "66ddba7a-b822-4c2c-a6ed-5b425dc5c6f5",
   "metadata": {},
   "source": [
    "**Purpose:**\n",
    "\n",
    "This code snippet configures a retriever, response synthesizer, and query engine for question answering using Llama Index.\n",
    "\n",
    "**Explanation:**\n",
    "\n",
    "- **`retriever = VectorIndexRetriever(index=index, similarity_top_k=5)`:**\n",
    "  - Creates an instance of the `VectorIndexRetriever` class, passing the `index` and `similarity_top_k` as arguments.\n",
    "  - The `VectorIndexRetriever` retrieves relevant documents from the vector store based on semantic similarity.\n",
    "  - The `similarity_top_k` parameter specifies the maximum number of documents to retrieve.\n",
    "\n",
    "- **`response_synthesizer = get_response_synthesizer()`:**\n",
    "  - Gets a default response synthesizer from Llama Index. This synthesizer can be used to generate responses based on retrieved documents and a prompt.\n",
    "\n",
    "- **`query_engine = RetrieverQueryEngine(retriever=retriever, response_synthesizer=response_synthesizer, node_postprocessors=[SimilarityPostprocessor(similarity_cutoff=0.55)])`:**\n",
    "  - Creates an instance of the `RetrieverQueryEngine` class, passing the `retriever`, `response_synthesizer`, and `node_postprocessors` as arguments.\n",
    "  - The `RetrieverQueryEngine` combines the retriever and response synthesizer to provide a complete question-answering system.\n",
    "  - The `node_postprocessors` list specifies post-processing steps to be applied to the retrieved documents. In this case, a `SimilarityPostprocessor` is used to filter out documents with similarity scores below 0.55.\n",
    "\n",
    "- **`query_engine.update_prompts({\"response_synthesizer:text_qa_template\":prompt_tmpl})`:**\n",
    "  - Updates the prompt template used by the response synthesizer to the `prompt_tmpl` created earlier. This allows you to customize the prompt used for generating responses.\n",
    "\n",
    "**Impact:**\n",
    "\n",
    "After running this code, the `query_engine` variable will contain a `RetrieverQueryEngine` object that can be used to answer questions based on the retrieved documents. The `retriever` will retrieve relevant documents from the vector store, the `response_synthesizer` will generate responses based on the retrieved documents and the prompt template, and the `node_postprocessors` will filter out low-quality documents.\n",
    "\n",
    "**Note:**\n",
    "\n",
    "- You can customize the `similarity_top_k` parameter to control the number of documents retrieved.\n",
    "- You can use different response synthesizers or node postprocessors based on your specific requirements.\n",
    "- The prompt template used in the `query_engine` will determine the format of the prompt that is passed to the language model."
   ]
  },
  {
   "cell_type": "code",
   "execution_count": 32,
   "id": "a5133d84-ab8a-4c1f-9947-9aed3f010489",
   "metadata": {},
   "outputs": [],
   "source": [
    "# configure retriever\n",
    "retriever = VectorIndexRetriever(\n",
    "    index=index,\n",
    "    similarity_top_k=5,\n",
    ")\n",
    "\n",
    "# configure response synthesizer\n",
    "response_synthesizer = get_response_synthesizer()\n",
    "\n",
    "# assemble query engine\n",
    "query_engine = RetrieverQueryEngine(\n",
    "    retriever=retriever,\n",
    "    response_synthesizer=response_synthesizer,\n",
    "    node_postprocessors=[SimilarityPostprocessor(similarity_cutoff=0.55)]\n",
    ")\n",
    "\n",
    "query_engine.update_prompts(\n",
    "    {\"response_synthesizer:text_qa_template\":prompt_tmpl}\n",
    ")"
   ]
  },
  {
   "cell_type": "markdown",
   "id": "c0962178-b5c7-44ca-8bb9-3a8bf8645d46",
   "metadata": {},
   "source": [
    "### Test the implementation\n",
    "The code you provided will retrieve relevant documents from the vector store based on the query \"What are the cases of failure to pay premium?\", rerank the documents using a cross-encoder model, and finally generate a response using the query engine.\n",
    "\n",
    "To get the actual response, you need to run the code and the output will be displayed as Markdown."
   ]
  },
  {
   "cell_type": "code",
   "execution_count": 33,
   "id": "9fa7dc1d-2baa-47a5-9971-359bceae9863",
   "metadata": {},
   "outputs": [],
   "source": [
    "question = \"What are the cases of failure to pay premium?\"\n",
    "result = query_engine.query(question)"
   ]
  },
  {
   "cell_type": "code",
   "execution_count": 34,
   "id": "004910fa-b15f-4970-a09f-4f0794bfca99",
   "metadata": {},
   "outputs": [
    {
     "data": {
      "text/markdown": [
       "The Group Policy will terminate at the end of the Grace Period if the total premium due is not received by The Principal.  Failure to pay the premium within the Grace Period will be considered notice to discontinue the Group Policy. This information is found in **Principal-Sample-Life-Insurance-Policy.pdf, Page 23**. \n"
      ],
      "text/plain": [
       "<IPython.core.display.Markdown object>"
      ]
     },
     "metadata": {},
     "output_type": "display_data"
    }
   ],
   "source": [
    "display(Markdown(result.response))"
   ]
  },
  {
   "cell_type": "code",
   "execution_count": null,
   "id": "80c8e9f0-9557-4af8-90eb-80a792ff84d3",
   "metadata": {},
   "outputs": [],
   "source": []
  }
 ],
 "metadata": {
  "kernelspec": {
   "display_name": "Python 3 (ipykernel)",
   "language": "python",
   "name": "python3"
  },
  "language_info": {
   "codemirror_mode": {
    "name": "ipython",
    "version": 3
   },
   "file_extension": ".py",
   "mimetype": "text/x-python",
   "name": "python",
   "nbconvert_exporter": "python",
   "pygments_lexer": "ipython3",
   "version": "3.11.5"
  }
 },
 "nbformat": 4,
 "nbformat_minor": 5
}
